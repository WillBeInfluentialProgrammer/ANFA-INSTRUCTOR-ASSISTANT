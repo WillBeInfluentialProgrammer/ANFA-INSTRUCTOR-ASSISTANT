{
 "cells": [
  {
   "cell_type": "code",
   "execution_count": 2,
   "id": "c307cdfb",
   "metadata": {},
   "outputs": [
    {
     "data": {
      "application/vnd.jupyter.widget-view+json": {
       "model_id": "81e1e3ba44944c0fb9c78723fe8a61e3",
       "version_major": 2,
       "version_minor": 0
      },
      "text/plain": [
       "VBox(children=(HTML(value='<center> <img\\nsrc=https://huggingface.co/front/assets/huggingface_logo-noborder.sv…"
      ]
     },
     "metadata": {},
     "output_type": "display_data"
    }
   ],
   "source": [
    "from huggingface_hub import notebook_login\n",
    "notebook_login()"
   ]
  },
  {
   "cell_type": "code",
   "execution_count": 6,
   "id": "417c1537",
   "metadata": {},
   "outputs": [],
   "source": [
    "import os\n",
    "from pathlib import Path\n",
    "from langchain.document_loaders import PyPDFLoader\n",
    "from langchain.text_splitter import RecursiveCharacterTextSplitter\n",
    "from langchain.embeddings import HuggingFaceEmbeddings\n",
    "from langchain.vectorstores import Chroma\n",
    "from langchain.chains import RetrievalQA\n",
    "from typing import List\n",
    "from langchain_core.documents import Document\n",
    "import glob"
   ]
  },
  {
   "cell_type": "code",
   "execution_count": 8,
   "id": "9f583c8b",
   "metadata": {},
   "outputs": [],
   "source": [
    "\n",
    "def data_loader(folder_path: str = \"data\") -> List[Document]:\n",
    "    pdf_files = glob.glob(os.path.join(folder_path, \"*.pdf\"))\n",
    "    all_documents = []\n",
    "\n",
    "    for pdf_file in pdf_files:\n",
    "        loader = PyPDFLoader(pdf_file)\n",
    "        docs = loader.load()\n",
    "        all_documents.extend(docs)\n",
    "\n",
    "    return all_documents"
   ]
  },
  {
   "cell_type": "code",
   "execution_count": 9,
   "id": "238d3ecc",
   "metadata": {},
   "outputs": [],
   "source": [
    "documents = data_loader(\"data\")"
   ]
  },
  {
   "cell_type": "code",
   "execution_count": 10,
   "id": "b06840af",
   "metadata": {},
   "outputs": [
    {
     "name": "stdout",
     "output_type": "stream",
     "text": [
      "Document 1:\n",
      "Content: THE PUNJAB POLICE RULES\n",
      "VOLUME 1\n",
      "Chapter 1\n",
      " Organization\n",
      "Part I \n",
      "Departmental Organization\n",
      "Rule 1.1\n",
      "1.1.  Constitution. - For the purposes of Section 3 of the Police Act (V of 1861) the Pun-\n",
      "jab is di ...\n",
      "Metadata: {'producer': 'Acrobat Distiller 5.0.5 (Windows)', 'creator': 'PScript5.dll Version 5.2', 'creationdate': '2010-05-28T03:57:06+00:00', 'moddate': '2015-08-12T12:32:08+05:30', 'title': 'Punjab Police Rules Volume 1', 'source': 'data\\\\Punjab-Police-Rules-I.pdf', 'total_pages': 362, 'page': 0, 'page_label': '1'}\n",
      "------------------------------------------------------------\n",
      "Document 2:\n",
      "Content: Finger Print Bureau); a Criminal Investigation Department, and District Police Estab-\n",
      "lishments.  The Railway Police, general district, is divided into a Central Investigating\n",
      "Agency, and such number  ...\n",
      "Metadata: {'producer': 'Acrobat Distiller 5.0.5 (Windows)', 'creator': 'PScript5.dll Version 5.2', 'creationdate': '2010-05-28T03:57:06+00:00', 'moddate': '2015-08-12T12:32:08+05:30', 'title': 'Punjab Police Rules Volume 1', 'source': 'data\\\\Punjab-Police-Rules-I.pdf', 'total_pages': 362, 'page': 1, 'page_label': '2'}\n",
      "------------------------------------------------------------\n",
      "Document 3:\n",
      "Content: in different parts of the province, Deputy Inspectors-General of ranges and of the Crimi-\n",
      "nal Investigation Department and the Assistant Inspector-General, Government Railway\n",
      "Police, shall maintain cl ...\n",
      "Metadata: {'producer': 'Acrobat Distiller 5.0.5 (Windows)', 'creator': 'PScript5.dll Version 5.2', 'creationdate': '2010-05-28T03:57:06+00:00', 'moddate': '2015-08-12T12:32:08+05:30', 'title': 'Punjab Police Rules Volume 1', 'source': 'data\\\\Punjab-Police-Rules-I.pdf', 'total_pages': 362, 'page': 2, 'page_label': '3'}\n",
      "------------------------------------------------------------\n",
      "Document 4:\n",
      "Content: by Superintendents of Police, through the District Magistrate to the Deputy Inspector-\n",
      "General of the range.  The latter, after the necessary scrutiny, and after recording his\n",
      "opinion on the proposal, ...\n",
      "Metadata: {'producer': 'Acrobat Distiller 5.0.5 (Windows)', 'creator': 'PScript5.dll Version 5.2', 'creationdate': '2010-05-28T03:57:06+00:00', 'moddate': '2015-08-12T12:32:08+05:30', 'title': 'Punjab Police Rules Volume 1', 'source': 'data\\\\Punjab-Police-Rules-I.pdf', 'total_pages': 362, 'page': 3, 'page_label': '4'}\n",
      "------------------------------------------------------------\n",
      "Document 5:\n",
      "Content: the division fully informed of all matters of importance concerning the efficiency of the\n",
      "police and the state of crime.\n",
      "Rule 1.15\n",
      "1.15.  The  District Magistrate. - The District Magistrate is the hea ...\n",
      "Metadata: {'producer': 'Acrobat Distiller 5.0.5 (Windows)', 'creator': 'PScript5.dll Version 5.2', 'creationdate': '2010-05-28T03:57:06+00:00', 'moddate': '2015-08-12T12:32:08+05:30', 'title': 'Punjab Police Rules Volume 1', 'source': 'data\\\\Punjab-Police-Rules-I.pdf', 'total_pages': 362, 'page': 4, 'page_label': '5'}\n",
      "------------------------------------------------------------\n"
     ]
    }
   ],
   "source": [
    "for i, doc in enumerate(documents[:5]):\n",
    "    print(f\"Document {i+1}:\")\n",
    "    print(\"Content:\", doc.page_content[:200], \"...\") \n",
    "    print(\"Metadata:\", doc.metadata)\n",
    "    print(\"-\"*60)"
   ]
  },
  {
   "cell_type": "code",
   "execution_count": 11,
   "id": "deee453c",
   "metadata": {},
   "outputs": [],
   "source": [
    "text_splitter = RecursiveCharacterTextSplitter(\n",
    "    chunk_size=1000,\n",
    "    chunk_overlap=200\n",
    ")\n",
    "document_chunks = text_splitter.split_documents(documents)\n"
   ]
  },
  {
   "cell_type": "code",
   "execution_count": 12,
   "id": "574ecc69",
   "metadata": {},
   "outputs": [
    {
     "name": "stderr",
     "output_type": "stream",
     "text": [
      "C:\\Users\\ayesh\\AppData\\Local\\Temp\\ipykernel_19996\\3023741705.py:1: LangChainDeprecationWarning: The class `HuggingFaceEmbeddings` was deprecated in LangChain 0.2.2 and will be removed in 1.0. An updated version of the class exists in the :class:`~langchain-huggingface package and should be used instead. To use it run `pip install -U :class:`~langchain-huggingface` and import as `from :class:`~langchain_huggingface import HuggingFaceEmbeddings``.\n",
      "  embedding_model = HuggingFaceEmbeddings(\n"
     ]
    },
    {
     "data": {
      "application/vnd.jupyter.widget-view+json": {
       "model_id": "a239850f8f6947a68ec17908f5ba4710",
       "version_major": 2,
       "version_minor": 0
      },
      "text/plain": [
       "modules.json:   0%|          | 0.00/349 [00:00<?, ?B/s]"
      ]
     },
     "metadata": {},
     "output_type": "display_data"
    },
    {
     "name": "stderr",
     "output_type": "stream",
     "text": [
      "C:\\Users\\ayesh\\AppData\\Local\\Packages\\PythonSoftwareFoundation.Python.3.11_qbz5n2kfra8p0\\LocalCache\\local-packages\\Python311\\site-packages\\huggingface_hub\\file_download.py:143: UserWarning: `huggingface_hub` cache-system uses symlinks by default to efficiently store duplicated files but your machine does not support them in C:\\Users\\ayesh\\.cache\\huggingface\\hub\\models--sentence-transformers--all-MiniLM-L6-v2. Caching files will still work but in a degraded version that might require more space on your disk. This warning can be disabled by setting the `HF_HUB_DISABLE_SYMLINKS_WARNING` environment variable. For more details, see https://huggingface.co/docs/huggingface_hub/how-to-cache#limitations.\n",
      "To support symlinks on Windows, you either need to activate Developer Mode or to run Python as an administrator. In order to activate developer mode, see this article: https://docs.microsoft.com/en-us/windows/apps/get-started/enable-your-device-for-development\n",
      "  warnings.warn(message)\n"
     ]
    },
    {
     "data": {
      "application/vnd.jupyter.widget-view+json": {
       "model_id": "54577cfe90b24a43ad7b087f1e7676ab",
       "version_major": 2,
       "version_minor": 0
      },
      "text/plain": [
       "config_sentence_transformers.json:   0%|          | 0.00/116 [00:00<?, ?B/s]"
      ]
     },
     "metadata": {},
     "output_type": "display_data"
    },
    {
     "data": {
      "application/vnd.jupyter.widget-view+json": {
       "model_id": "8cefa6ea11514c51947f7b14fb71ce24",
       "version_major": 2,
       "version_minor": 0
      },
      "text/plain": [
       "README.md: 0.00B [00:00, ?B/s]"
      ]
     },
     "metadata": {},
     "output_type": "display_data"
    },
    {
     "data": {
      "application/vnd.jupyter.widget-view+json": {
       "model_id": "ae740bec84ff49e09f7245afbc42221c",
       "version_major": 2,
       "version_minor": 0
      },
      "text/plain": [
       "sentence_bert_config.json:   0%|          | 0.00/53.0 [00:00<?, ?B/s]"
      ]
     },
     "metadata": {},
     "output_type": "display_data"
    },
    {
     "data": {
      "application/vnd.jupyter.widget-view+json": {
       "model_id": "f01ccdad02e44ba48a158e86e980ddb4",
       "version_major": 2,
       "version_minor": 0
      },
      "text/plain": [
       "config.json:   0%|          | 0.00/612 [00:00<?, ?B/s]"
      ]
     },
     "metadata": {},
     "output_type": "display_data"
    },
    {
     "name": "stderr",
     "output_type": "stream",
     "text": [
      "Xet Storage is enabled for this repo, but the 'hf_xet' package is not installed. Falling back to regular HTTP download. For better performance, install the package with: `pip install huggingface_hub[hf_xet]` or `pip install hf_xet`\n"
     ]
    },
    {
     "data": {
      "application/vnd.jupyter.widget-view+json": {
       "model_id": "f7766c4c30064285842fc6d52cfbb9eb",
       "version_major": 2,
       "version_minor": 0
      },
      "text/plain": [
       "model.safetensors:   0%|          | 0.00/90.9M [00:00<?, ?B/s]"
      ]
     },
     "metadata": {},
     "output_type": "display_data"
    },
    {
     "data": {
      "application/vnd.jupyter.widget-view+json": {
       "model_id": "d0c181f65bf84780ac2efc37a9e18962",
       "version_major": 2,
       "version_minor": 0
      },
      "text/plain": [
       "tokenizer_config.json:   0%|          | 0.00/350 [00:00<?, ?B/s]"
      ]
     },
     "metadata": {},
     "output_type": "display_data"
    },
    {
     "data": {
      "application/vnd.jupyter.widget-view+json": {
       "model_id": "f267ff6786384d2b9007f206e9cd46db",
       "version_major": 2,
       "version_minor": 0
      },
      "text/plain": [
       "vocab.txt: 0.00B [00:00, ?B/s]"
      ]
     },
     "metadata": {},
     "output_type": "display_data"
    },
    {
     "data": {
      "application/vnd.jupyter.widget-view+json": {
       "model_id": "492195a8a9974682bdedbd6bf447fae2",
       "version_major": 2,
       "version_minor": 0
      },
      "text/plain": [
       "tokenizer.json: 0.00B [00:00, ?B/s]"
      ]
     },
     "metadata": {},
     "output_type": "display_data"
    },
    {
     "data": {
      "application/vnd.jupyter.widget-view+json": {
       "model_id": "a65829a5c6f6456a92d73866bacbfd78",
       "version_major": 2,
       "version_minor": 0
      },
      "text/plain": [
       "special_tokens_map.json:   0%|          | 0.00/112 [00:00<?, ?B/s]"
      ]
     },
     "metadata": {},
     "output_type": "display_data"
    },
    {
     "data": {
      "application/vnd.jupyter.widget-view+json": {
       "model_id": "ad0b036ef6ca409eaa58d97061cd31af",
       "version_major": 2,
       "version_minor": 0
      },
      "text/plain": [
       "config.json:   0%|          | 0.00/190 [00:00<?, ?B/s]"
      ]
     },
     "metadata": {},
     "output_type": "display_data"
    }
   ],
   "source": [
    "embedding_model = HuggingFaceEmbeddings(\n",
    "    model_name=\"sentence-transformers/all-MiniLM-L6-v2\"\n",
    ")\n",
    "vectorstore = Chroma.from_documents(document_chunks, embedding_model)"
   ]
  },
  {
   "cell_type": "code",
   "execution_count": 19,
   "id": "0d901f4d",
   "metadata": {},
   "outputs": [],
   "source": [
    "from langchain.prompts import ChatPromptTemplate\n",
    "GROQ_API_KEY = os.getenv('GROQ_API_KEY') or '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'\n",
    "from langchain_groq import ChatGroq\n",
    "groq_client = ChatGroq(api_key=GROQ_API_KEY, model=\"llama-3.1-8b-instant\")\n",
    "\n",
    "\n",
    "retriever = vectorstore.as_retriever(search_kwargs={\"k\": 5})  "
   ]
  },
  {
   "cell_type": "code",
   "execution_count": 20,
   "id": "eea50466",
   "metadata": {},
   "outputs": [],
   "source": [
    "chat_prompt = ChatPromptTemplate.from_template(\n",
    "    \"\"\"\n",
    "    You are an expert assistant. Use the following context to answer the user's question. If the answer is not in the context, say you don't know.\n",
    "    \n",
    "    Context:\n",
    "    {context}\n",
    "    \n",
    "    Question:\n",
    "    {question}\n",
    "    \"\"\"\n",
    ")"
   ]
  },
  {
   "cell_type": "code",
   "execution_count": 21,
   "id": "6006ea48",
   "metadata": {},
   "outputs": [],
   "source": [
    "qa_chain = RetrievalQA.from_chain_type(\n",
    "    llm=groq_client,\n",
    "    retriever=retriever,\n",
    "    return_source_documents=True,\n",
    "    chain_type_kwargs={\"prompt\": chat_prompt}\n",
    ")\n"
   ]
  },
  {
   "cell_type": "code",
   "execution_count": 24,
   "id": "1a35e036",
   "metadata": {},
   "outputs": [
    {
     "name": "stdout",
     "output_type": "stream",
     "text": [
      "Question: What is the main topic of Punjab Police Rules?\n",
      "\n",
      "Answer: The main topic of Punjab Police Rules appears to be the guidelines and principles governing the organization, functioning, and responsibilities of the police in the Punjab region.\n"
     ]
    }
   ],
   "source": [
    "query = \"What is the main topic of Punjab Police Rules?\"\n",
    "result = qa_chain({\"query\": query})\n",
    "\n",
    "print(\"Question:\", query)\n",
    "print(\"\\nAnswer:\", result[\"result\"])"
   ]
  },
  {
   "cell_type": "code",
   "execution_count": null,
   "id": "f4b74563",
   "metadata": {},
   "outputs": [],
   "source": []
  }
 ],
 "metadata": {
  "kernelspec": {
   "display_name": "Python 3",
   "language": "python",
   "name": "python3"
  },
  "language_info": {
   "codemirror_mode": {
    "name": "ipython",
    "version": 3
   },
   "file_extension": ".py",
   "mimetype": "text/x-python",
   "name": "python",
   "nbconvert_exporter": "python",
   "pygments_lexer": "ipython3",
   "version": "3.11.9"
  }
 },
 "nbformat": 4,
 "nbformat_minor": 5
}
